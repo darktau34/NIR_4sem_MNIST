{
 "cells": [
  {
   "cell_type": "code",
   "execution_count": 41,
   "id": "ed6e5247",
   "metadata": {
    "slideshow": {
     "slide_type": "slide"
    }
   },
   "outputs": [],
   "source": [
    "import numpy as np\n",
    "import matplotlib.pyplot as plt\n",
    "import scipy.special\n",
    "import random\n",
    "%matplotlib inline\n"
   ]
  },
  {
   "cell_type": "code",
   "execution_count": 42,
   "id": "9c1757d4",
   "metadata": {},
   "outputs": [],
   "source": [
    "class perseptron:\n",
    "    \n",
    "    def __init__(self, in_nodes, hide_nodes, out_nodes, learnspeed):\n",
    "        self.i_n = in_nodes\n",
    "        self.h_n = hide_nodes\n",
    "        self.o_n = out_nodes\n",
    "        \n",
    "        self.ls = learnspeed\n",
    "        \n",
    "        self.wih = np.random.normal(0.0, pow(self.h_n, -0.5), (self.h_n, self.i_n))\n",
    "        self.who = np.random.normal(0.0, pow(self.o_n, -0.5), (self.o_n, self.h_n))\n",
    "        \n",
    "        self.activate_func = lambda x : scipy.special.expit(x)\n",
    "        pass\n",
    "    \n",
    "    def train(self, input_arr, target_arr):\n",
    "        inputs = np.array(input_arr, ndmin=2).T\n",
    "        targets = np.array(target_arr, ndmin=2).T\n",
    "        \n",
    "        hide_in = np.dot(self.wih, inputs)\n",
    "        hide_out = self.activate_func(hide_in)\n",
    "        \n",
    "        last_in = np.dot(self.who, hide_out)\n",
    "        last_out = self.activate_func(last_in)\n",
    "        \n",
    "        out_err = targets - last_out\n",
    "        hide_err = np.dot(self.who.T, out_err)\n",
    "        \n",
    "        self.who += self.ls * np.dot((out_err * last_out * (1.0 - last_out)), np.transpose(hide_out))\n",
    "        self.wih += self.ls * np.dot((hide_err * hide_out * (1.0 - hide_out)), np.transpose(inputs))\n",
    "\n",
    "        pass\n",
    "    \n",
    "    def query(self, input_arr):\n",
    "        inputs = np.array(input_arr, ndmin=2).T\n",
    "        \n",
    "        hide_in = np.dot(self.wih, inputs)\n",
    "        hide_out = self.activate_func(hide_in)\n",
    "        \n",
    "        last_in = np.dot(self.who, hide_out)\n",
    "        last_out = self.activate_func(last_in)\n",
    "        \n",
    "        return last_out\n",
    "    "
   ]
  },
  {
   "cell_type": "code",
   "execution_count": 43,
   "id": "9d7d3037",
   "metadata": {},
   "outputs": [],
   "source": [
    "in_nodes = 784\n",
    "hide_nodes = 100\n",
    "out_nodes = 10\n",
    "\n",
    "learnspeed = 0.1\n",
    "epochs = 3\n",
    "\n",
    "p = perseptron(in_nodes, hide_nodes, out_nodes, learnspeed)"
   ]
  },
  {
   "cell_type": "code",
   "execution_count": 44,
   "id": "85fa4d1d",
   "metadata": {},
   "outputs": [],
   "source": [
    "training_data_file = open(\"mnist/train_data.csv\", 'r')\n",
    "training_data_arr = training_data_file.readlines()\n",
    "training_data_file.close()"
   ]
  },
  {
   "cell_type": "code",
   "execution_count": 45,
   "id": "e5dd5e2a",
   "metadata": {},
   "outputs": [],
   "source": [
    "for e in range(epochs):\n",
    "    random.shuffle(training_data_arr)\n",
    "    for element in training_data_arr:\n",
    "        all_val = element.split(',')\n",
    "        input_arr = (np.asfarray(all_val[1:]) / 255.0 * 0.99) + 0.01\n",
    "        target_arr = np.zeros(out_nodes) + 0.01\n",
    "        target_arr[int(all_val[0])] = 0.99\n",
    "        p.train(input_arr, target_arr)"
   ]
  },
  {
   "cell_type": "code",
   "execution_count": 46,
   "id": "b318ec75",
   "metadata": {},
   "outputs": [],
   "source": [
    "test_data_file = open(\"mnist/test_data.csv\", 'r')\n",
    "test_data_arr = test_data_file.readlines()\n",
    "test_data_file.close()"
   ]
  },
  {
   "cell_type": "code",
   "execution_count": 47,
   "id": "551c8c34",
   "metadata": {},
   "outputs": [],
   "source": [
    "counter = []\n",
    "\n",
    "for element in test_data_arr:\n",
    "    all_val = element.split(',')\n",
    "    correct = int(all_val[0])\n",
    "    input_arr = (np.asfarray(all_val[1:]) / 255.0 * 0.99) + 0.01\n",
    "    output_arr = p.query(input_arr)\n",
    "    response = np.argmax(output_arr)\n",
    "    if (response == correct):\n",
    "        counter.append(1)\n",
    "    else:\n",
    "        counter.append(0)"
   ]
  },
  {
   "cell_type": "code",
   "execution_count": 48,
   "id": "9d2c0a23",
   "metadata": {},
   "outputs": [
    {
     "name": "stdout",
     "output_type": "stream",
     "text": [
      "Эффективность = 0.9659\n"
     ]
    }
   ],
   "source": [
    "counter_arr = np.asarray(counter)\n",
    "eff = counter_arr.sum() / counter_arr.size\n",
    "print(\"Эффективность =\", eff)"
   ]
  },
  {
   "cell_type": "code",
   "execution_count": 10,
   "id": "7ecb5e3b",
   "metadata": {},
   "outputs": [
    {
     "name": "stdout",
     "output_type": "stream",
     "text": [
      "[3.   0.01 0.01 0.01 0.01 0.01 0.01 0.01 0.01 0.01 0.01 0.01 0.01 0.01\n",
      " 0.01 0.01 0.01 0.01 0.01 0.01 0.01 0.01 0.01 0.01 0.01 0.01 0.01 0.01\n",
      " 0.01 0.01 0.01 0.01 0.01 0.01 0.01 0.01 0.01 0.01 0.01 0.01 0.01 0.01\n",
      " 0.01 0.01 0.01 0.01 0.01 0.01 0.01 0.01 0.01 0.01 0.01 0.01 0.01 0.01\n",
      " 0.01 0.01 0.01 0.01 0.01 0.01 0.01 0.01 0.01 0.01 0.01 1.   1.   1.\n",
      " 1.   1.   0.01 0.01 0.01 0.01 0.01 0.01 0.01 0.01 0.01 0.01 0.01 0.01\n",
      " 0.01 0.01 0.01 0.01 0.01 0.01 0.01 0.01 1.   1.   1.   1.   0.01 0.01\n",
      " 0.01 0.01 1.   1.   1.   0.01 0.01 0.01 0.01 0.01 0.01 0.01 0.01 0.01\n",
      " 0.01 0.01 0.01 0.01 0.01 0.01 0.01 0.01 1.   0.01 0.01 0.01 0.01 0.01\n",
      " 0.01 0.01 0.01 0.01 1.   1.   0.01 0.01 0.01 0.01 0.01 0.01 0.01 0.01\n",
      " 0.01 0.01 0.01 0.01 0.01 0.01 0.01 0.01 0.01 0.01 0.01 0.01 0.01 0.01\n",
      " 0.01 0.01 0.01 0.01 0.01 1.   0.01 0.01 0.01 0.01 0.01 0.01 0.01 0.01\n",
      " 0.01 0.01 0.01 0.01 0.01 0.01 0.01 0.01 0.01 0.01 0.01 0.01 0.01 0.01\n",
      " 0.01 0.01 0.01 0.01 1.   1.   0.01 0.01 0.01 0.01 0.01 0.01 0.01 0.01\n",
      " 0.01 0.01 0.01 0.01 0.01 0.01 0.01 0.01 0.01 0.01 0.01 0.01 0.01 0.01\n",
      " 0.01 0.01 0.01 1.   1.   0.01 0.01 0.01 0.01 0.01 0.01 0.01 0.01 0.01\n",
      " 0.01 0.01 0.01 0.01 0.01 0.01 0.01 0.01 0.01 0.01 0.01 0.01 0.01 0.01\n",
      " 0.01 0.01 1.   1.   0.01 0.01 0.01 0.01 0.01 0.01 0.01 0.01 0.01 0.01\n",
      " 0.01 0.01 0.01 0.01 0.01 0.01 0.01 0.01 0.01 0.01 0.01 0.01 0.01 0.01\n",
      " 1.   1.   1.   0.01 0.01 0.01 0.01 0.01 0.01 0.01 0.01 0.01 0.01 0.01\n",
      " 0.01 0.01 0.01 0.01 0.01 0.01 0.01 0.01 0.01 0.01 0.01 1.   1.   1.\n",
      " 1.   0.01 0.01 0.01 0.01 0.01 0.01 0.01 0.01 0.01 0.01 0.01 0.01 0.01\n",
      " 0.01 0.01 0.01 0.01 0.01 0.01 0.01 0.01 0.01 0.01 0.01 0.01 0.01 0.01\n",
      " 1.   1.   1.   0.01 0.01 0.01 0.01 0.01 0.01 0.01 0.01 0.01 0.01 0.01\n",
      " 0.01 0.01 0.01 0.01 0.01 0.01 0.01 0.01 0.01 0.01 0.01 0.01 0.01 0.01\n",
      " 0.01 0.01 1.   1.   1.   0.01 0.01 0.01 0.01 0.01 0.01 0.01 0.01 0.01\n",
      " 0.01 0.01 0.01 0.01 0.01 0.01 0.01 0.01 0.01 0.01 0.01 0.01 0.01 0.01\n",
      " 0.01 0.01 0.01 0.01 1.   0.01 0.01 0.01 0.01 0.01 0.01 0.01 0.01 0.01\n",
      " 0.01 0.01 0.01 0.01 0.01 0.01 0.01 0.01 0.01 0.01 0.01 0.01 0.01 0.01\n",
      " 0.01 0.01 0.01 0.01 1.   0.01 0.01 0.01 0.01 0.01 0.01 0.01 0.01 0.01\n",
      " 0.01 0.01 0.01 0.01 0.01 0.01 0.01 0.01 0.01 0.01 0.01 0.01 0.01 0.01\n",
      " 0.01 0.01 0.01 0.01 1.   1.   0.01 0.01 0.01 0.01 0.01 0.01 0.01 0.01\n",
      " 0.01 0.01 0.01 0.01 0.01 0.01 0.01 0.01 0.01 0.01 0.01 0.01 0.01 0.01\n",
      " 0.01 0.01 0.01 0.01 0.01 1.   0.01 0.01 0.01 0.01 0.01 0.01 0.01 0.01\n",
      " 0.01 0.01 0.01 0.01 0.01 0.01 0.01 0.01 0.01 0.01 0.01 0.01 0.01 0.01\n",
      " 0.01 0.01 0.01 0.01 1.   1.   0.01 0.01 0.01 0.01 0.01 0.01 0.01 0.01\n",
      " 0.01 0.01 0.01 0.01 0.01 0.01 0.01 0.01 0.01 0.01 0.01 0.01 0.01 0.01\n",
      " 0.01 0.01 0.01 1.   1.   0.01 0.01 0.01 0.01 0.01 0.01 0.01 0.01 0.01\n",
      " 0.01 0.01 0.01 0.01 0.01 0.01 0.01 1.   1.   0.01 0.01 0.01 0.01 0.01\n",
      " 0.01 0.01 1.   1.   0.01 0.01 0.01 0.01 0.01 0.01 0.01 0.01 0.01 0.01\n",
      " 0.01 0.01 0.01 0.01 0.01 0.01 0.01 0.01 1.   1.   1.   0.01 0.01 0.01\n",
      " 1.   1.   1.   0.01 0.01 0.01 0.01 0.01 0.01 0.01 0.01 0.01 0.01 0.01\n",
      " 0.01 0.01 0.01 0.01 0.01 0.01 0.01 0.01 0.01 0.01 1.   1.   1.   1.\n",
      " 1.   0.01 0.01 0.01 0.01 0.01 0.01 0.01 0.01 0.01 0.01 0.01 0.01 0.01\n",
      " 0.01 0.01 0.01 0.01 0.01 0.01 0.01 0.01 0.01 0.01 0.01 0.01 0.01 0.01\n",
      " 0.01 0.01 0.01 0.01 0.01 0.01 0.01 0.01 0.01 0.01 0.01 0.01 0.01 0.01\n",
      " 0.01 0.01 0.01 0.01 0.01 0.01 0.01 0.01 0.01 0.01 0.01 0.01 0.01 0.01\n",
      " 0.01 0.01 0.01 0.01 0.01 0.01 0.01 0.01 0.01 0.01 0.01 0.01 0.01 0.01\n",
      " 0.01 0.01 0.01 0.01 0.01 0.01 0.01 0.01 0.01 0.01 0.01 0.01 0.01 0.01\n",
      " 0.01 0.01 0.01 0.01 0.01 0.01 0.01 0.01 0.01 0.01 0.01 0.01 0.01 0.01\n",
      " 0.01 0.01 0.01 0.01 0.01 0.01 0.01 0.01 0.01 0.01 0.01 0.01 0.01 0.01\n",
      " 0.01 0.01 0.01 0.01 0.01 0.01 0.01 0.01 0.01 0.01 0.01 0.01 0.01 0.01\n",
      " 0.01 0.01 0.01 0.01 0.01 0.01 0.01 0.01 0.01 0.01 0.01 0.01 0.01 0.01\n",
      " 0.01 0.01 0.01 0.01 0.01 0.01 0.01 0.01 0.01 0.01 0.01 0.01 0.01 0.01\n",
      " 0.01 0.01 0.01 0.01 0.01 0.01 0.01 0.01 0.01 0.01 0.01 0.01 0.01 0.01\n",
      " 0.01 0.01 0.01 0.01 0.01 0.01 0.01 0.01 0.01 0.01 0.01 0.01 0.01 0.01\n",
      " 0.01]\n"
     ]
    }
   ],
   "source": [
    "# Пробую распознать свою картинку с цифрой\n",
    "# Пробую распознать свою картинку с цифрой\n",
    "# Пробую распознать свою картинку с цифрой\n",
    "# Пробую распознать свою картинку с цифрой\n",
    "# Пробую распознать свою картинку с цифрой\n",
    "# Пробую распознать свою картинку с цифрой\n",
    "# Пробую распознать свою картинку с цифрой\n",
    "# Пробую распознать свою картинку с цифрой\n",
    "# Пробую распознать свою картинку с цифрой\n",
    "# Пробую распознать свою картинку с цифрой\n",
    "\n",
    "import imageio\n",
    "img_file_name = 'mnist_dataset/3.png'\n",
    "img_array = imageio.imread(img_file_name, as_gray=True)\n",
    "img_data = 255.0 - img_array.reshape(784)\n",
    "img_data = (img_data / 255.0 * 0.99) + 0.01\n",
    "label = 3\n",
    "record = np.append(label, img_data)\n",
    "print(record)"
   ]
  },
  {
   "cell_type": "code",
   "execution_count": 11,
   "id": "d6974087",
   "metadata": {},
   "outputs": [
    {
     "data": {
      "text/plain": [
       "<matplotlib.image.AxesImage at 0x262a02eb580>"
      ]
     },
     "execution_count": 11,
     "metadata": {},
     "output_type": "execute_result"
    },
    {
     "data": {
      "image/png": "[encoded data removed]",
      "text/plain": [
       "<Figure size 432x288 with 1 Axes>"
      ]
     },
     "metadata": {
      "needs_background": "light"
     },
     "output_type": "display_data"
    }
   ],
   "source": [
    "plt.imshow(img_data.reshape(28,28), cmap='Greys', interpolation='None')"
   ]
  },
  {
   "cell_type": "code",
   "execution_count": 12,
   "id": "e217369e",
   "metadata": {},
   "outputs": [
    {
     "name": "stdout",
     "output_type": "stream",
     "text": [
      "[[2.21140334e-04]\n",
      " [2.14898801e-02]\n",
      " [4.17150555e-03]\n",
      " [6.18808931e-01]\n",
      " [1.15985094e-04]\n",
      " [3.71348278e-01]\n",
      " [5.40532645e-03]\n",
      " [1.05788945e-02]\n",
      " [1.97610992e-03]\n",
      " [1.09067935e-02]]\n",
      "Ответ сети = 3\n",
      "Нейросеть дала правильный ответ!\n"
     ]
    }
   ],
   "source": [
    "correct_label = record[0]\n",
    "inputs = record[1:]\n",
    "outputs = n.query(inputs)\n",
    "print(outputs)\n",
    "label = np.argmax(outputs)\n",
    "print('Ответ сети =', label)\n",
    "if(label == correct_label):\n",
    "    print('Нейросеть дала правильный ответ!')\n",
    "else:\n",
    "    print('Нейросети надо еще раз потренироваться...')"
   ]
  },
  {
   "cell_type": "code",
   "execution_count": 14,
   "id": "c499c25f",
   "metadata": {},
   "outputs": [
    {
     "name": "stdout",
     "output_type": "stream",
     "text": [
      "[0.01       0.01       0.01       0.01       0.01       0.01\n",
      " 0.01       0.01       0.01       0.01       0.01       0.01\n",
      " 0.01       0.01       0.01       0.01       0.01       0.01\n",
      " 0.01       0.01       0.01       0.01       0.01       0.01\n",
      " 0.01       0.01       0.01       0.01       0.01       0.01\n",
      " 0.01       0.01       0.01       0.01       0.01       0.01\n",
      " 0.01       0.01       0.01       0.01       0.01       0.01\n",
      " 0.01       0.01       0.01       0.01       0.01       0.01\n",
      " 0.01       0.01       0.01       0.01       0.01       0.01\n",
      " 0.01       0.01       0.01       0.01       0.01       0.01\n",
      " 0.01       0.01       0.01       0.01       0.01       0.01\n",
      " 0.01       0.01       0.01       0.01       0.01       0.01\n",
      " 0.01       0.01       0.01       0.01       0.01       0.01\n",
      " 0.01       0.01       0.01       0.01       0.01       0.01\n",
      " 0.01       0.01       0.01       0.01       0.01       0.01\n",
      " 0.01       0.01       0.01       0.01       0.01       0.01\n",
      " 0.01       0.01       0.01       0.01       0.01       0.01\n",
      " 0.01       0.01       0.01       0.01       0.01       0.01\n",
      " 0.01       0.01       0.01       0.01       0.01       0.01\n",
      " 0.01       0.01       0.01       0.01       0.01       0.01\n",
      " 0.01       0.01       0.01       0.01       0.01       0.01\n",
      " 0.01       0.01       0.01       0.01       0.01       0.01\n",
      " 0.01       0.01       0.01       0.01       0.01       0.01\n",
      " 0.01       0.01       0.01       0.01       0.01       0.01\n",
      " 0.01       0.01       0.01       0.01       0.01       0.01\n",
      " 0.01       0.01       0.01       0.01       0.01       0.01\n",
      " 0.01       0.01       0.01       0.01       0.01       0.01\n",
      " 0.01       0.01       0.01       0.01       0.01       0.01\n",
      " 0.01       0.01       0.01       0.01       0.01       0.01\n",
      " 0.01       0.01       0.01       0.01       0.01       0.01\n",
      " 0.01       0.01       0.01       0.01       0.01       0.01\n",
      " 0.01       0.01       0.01       0.01       0.01       0.01\n",
      " 0.01       0.01       0.01       0.01       0.01       0.01\n",
      " 0.01       0.01       0.01       0.01       0.33611765 0.72823529\n",
      " 0.62729412 0.59623529 0.24294118 0.14976471 0.01       0.01\n",
      " 0.01       0.01       0.01       0.01       0.01       0.01\n",
      " 0.01       0.01       0.01       0.01       0.01       0.01\n",
      " 0.01       0.01       0.01       0.01       0.01       0.01\n",
      " 0.01       0.01       0.87188235 0.99611765 0.99611765 0.99611765\n",
      " 0.99611765 0.94564706 0.77870588 0.77870588 0.77870588 0.77870588\n",
      " 0.77870588 0.77870588 0.77870588 0.77870588 0.67       0.21188235\n",
      " 0.01       0.01       0.01       0.01       0.01       0.01\n",
      " 0.01       0.01       0.01       0.01       0.01       0.01\n",
      " 0.27011765 0.45258824 0.28952941 0.45258824 0.64282353 0.89129412\n",
      " 0.99611765 0.88352941 0.99611765 0.99611765 0.99611765 0.98058824\n",
      " 0.89905882 0.99611765 0.99611765 0.55352941 0.01       0.01\n",
      " 0.01       0.01       0.01       0.01       0.01       0.01\n",
      " 0.01       0.01       0.01       0.01       0.01       0.01\n",
      " 0.01       0.01       0.01       0.076      0.26623529 0.06435294\n",
      " 0.27011765 0.27011765 0.27011765 0.23905882 0.09152941 0.92623529\n",
      " 0.99611765 0.42152941 0.01       0.01       0.01       0.01\n",
      " 0.01       0.01       0.01       0.01       0.01       0.01\n",
      " 0.01       0.01       0.01       0.01       0.01       0.01\n",
      " 0.01       0.01       0.01       0.01       0.01       0.01\n",
      " 0.01       0.01       0.33223529 0.99223529 0.82141176 0.07988235\n",
      " 0.01       0.01       0.01       0.01       0.01       0.01\n",
      " 0.01       0.01       0.01       0.01       0.01       0.01\n",
      " 0.01       0.01       0.01       0.01       0.01       0.01\n",
      " 0.01       0.01       0.01       0.01       0.01       0.09541176\n",
      " 0.91458824 1.         0.33223529 0.01       0.01       0.01\n",
      " 0.01       0.01       0.01       0.01       0.01       0.01\n",
      " 0.01       0.01       0.01       0.01       0.01       0.01\n",
      " 0.01       0.01       0.01       0.01       0.01       0.01\n",
      " 0.01       0.01       0.01       0.51082353 0.99611765 0.934\n",
      " 0.18082353 0.01       0.01       0.01       0.01       0.01\n",
      " 0.01       0.01       0.01       0.01       0.01       0.01\n",
      " 0.01       0.01       0.01       0.01       0.01       0.01\n",
      " 0.01       0.01       0.01       0.01       0.01       0.01\n",
      " 0.23905882 0.97670588 0.99611765 0.25070588 0.01       0.01\n",
      " 0.01       0.01       0.01       0.01       0.01       0.01\n",
      " 0.01       0.01       0.01       0.01       0.01       0.01\n",
      " 0.01       0.01       0.01       0.01       0.01       0.01\n",
      " 0.01       0.01       0.01       0.01       0.52635294 0.99611765\n",
      " 0.736      0.02941176 0.01       0.01       0.01       0.01\n",
      " 0.01       0.01       0.01       0.01       0.01       0.01\n",
      " 0.01       0.01       0.01       0.01       0.01       0.01\n",
      " 0.01       0.01       0.01       0.01       0.01       0.01\n",
      " 0.01       0.04494118 0.80588235 0.97282353 0.23517647 0.01\n",
      " 0.01       0.01       0.01       0.01       0.01       0.01\n",
      " 0.01       0.01       0.01       0.01       0.01       0.01\n",
      " 0.01       0.01       0.01       0.01       0.01       0.01\n",
      " 0.01       0.01       0.01       0.01       0.01       0.49917647\n",
      " 0.99611765 0.71658824 0.01       0.01       0.01       0.01\n",
      " 0.01       0.01       0.01       0.01       0.01       0.01\n",
      " 0.01       0.01       0.01       0.01       0.01       0.01\n",
      " 0.01       0.01       0.01       0.01       0.01       0.01\n",
      " 0.01       0.01       0.30117647 0.98447059 0.94176471 0.23129412\n",
      " 0.01       0.01       0.01       0.01       0.01       0.01\n",
      " 0.01       0.01       0.01       0.01       0.01       0.01\n",
      " 0.01       0.01       0.01       0.01       0.01       0.01\n",
      " 0.01       0.01       0.01       0.01       0.01       0.08376471\n",
      " 0.868      0.99611765 0.65447059 0.01       0.01       0.01\n",
      " 0.01       0.01       0.01       0.01       0.01       0.01\n",
      " 0.01       0.01       0.01       0.01       0.01       0.01\n",
      " 0.01       0.01       0.01       0.01       0.01       0.01\n",
      " 0.01       0.01       0.02164706 0.79811765 0.99611765 0.86023529\n",
      " 0.14588235 0.01       0.01       0.01       0.01       0.01\n",
      " 0.01       0.01       0.01       0.01       0.01       0.01\n",
      " 0.01       0.01       0.01       0.01       0.01       0.01\n",
      " 0.01       0.01       0.01       0.01       0.01       0.01\n",
      " 0.15752941 0.99611765 0.99611765 0.30894118 0.01       0.01\n",
      " 0.01       0.01       0.01       0.01       0.01       0.01\n",
      " 0.01       0.01       0.01       0.01       0.01       0.01\n",
      " 0.01       0.01       0.01       0.01       0.01       0.01\n",
      " 0.01       0.01       0.01       0.13035294 0.87964706 0.99611765\n",
      " 0.45647059 0.01388235 0.01       0.01       0.01       0.01\n",
      " 0.01       0.01       0.01       0.01       0.01       0.01\n",
      " 0.01       0.01       0.01       0.01       0.01       0.01\n",
      " 0.01       0.01       0.01       0.01       0.01       0.01\n",
      " 0.01       0.52635294 0.99611765 0.99611765 0.21188235 0.01\n",
      " 0.01       0.01       0.01       0.01       0.01       0.01\n",
      " 0.01       0.01       0.01       0.01       0.01       0.01\n",
      " 0.01       0.01       0.01       0.01       0.01       0.01\n",
      " 0.01       0.01       0.01       0.01       0.24682353 0.94952941\n",
      " 0.99611765 0.99611765 0.21188235 0.01       0.01       0.01\n",
      " 0.01       0.01       0.01       0.01       0.01       0.01\n",
      " 0.01       0.01       0.01       0.01       0.01       0.01\n",
      " 0.01       0.01       0.01       0.01       0.01       0.01\n",
      " 0.01       0.01       0.47976471 0.99611765 0.99611765 0.86023529\n",
      " 0.16529412 0.01       0.01       0.01       0.01       0.01\n",
      " 0.01       0.01       0.01       0.01       0.01       0.01\n",
      " 0.01       0.01       0.01       0.01       0.01       0.01\n",
      " 0.01       0.01       0.01       0.01       0.01       0.01\n",
      " 0.47976471 0.99611765 0.81364706 0.07988235 0.01       0.01\n",
      " 0.01       0.01       0.01       0.01       0.01       0.01\n",
      " 0.01       0.01       0.01       0.01       0.01       0.01\n",
      " 0.01       0.01       0.01       0.01       0.01       0.01\n",
      " 0.01       0.01       0.01       0.01       0.01       0.01\n",
      " 0.01       0.01       0.01       0.01       0.01       0.01\n",
      " 0.01       0.01       0.01       0.01       0.01       0.01\n",
      " 0.01       0.01       0.01       0.01      ]\n"
     ]
    },
    {
     "data": {
      "image/png": "[encoded data removed]",
      "text/plain": [
       "<Figure size 432x288 with 1 Axes>"
      ]
     },
     "metadata": {
      "needs_background": "light"
     },
     "output_type": "display_data"
    }
   ],
   "source": [
    "# как выглядят цифры из mnist\n",
    "\n",
    "\n",
    "test_data_file = open(\"mnist_dataset/mnist_test_10.csv\")\n",
    "test_data_list = test_data_file.readlines()\n",
    "test_data_file.close()\n",
    "\n",
    "content_array = []\n",
    "\n",
    "for record in test_data_list:\n",
    "    all_values = record.split(',')\n",
    "    content = (np.asfarray(all_values[1:]) / 255.0 * 0.99) + 0.01\n",
    "    content_array.append(content)\n",
    "    # plt.imshow(content.reshape(28,28), cmap='Greys', interpolation='None')\n",
    "\n",
    "plt.imshow(content_array[0].reshape(28,28), cmap='Greys', interpolation='None')\n",
    "print(content_array[0])   "
   ]
  },
  {
   "cell_type": "code",
   "execution_count": null,
   "id": "6d1d27ec",
   "metadata": {},
   "outputs": [],
   "source": []
  }
 ],
 "metadata": {
  "celltoolbar": "Отсутствует",
  "kernelspec": {
   "display_name": "Python 3 (ipykernel)",
   "language": "python",
   "name": "python3"
  },
  "language_info": {
   "codemirror_mode": {
    "name": "ipython",
    "version": 3
   },
   "file_extension": ".py",
   "mimetype": "text/x-python",
   "name": "python",
   "nbconvert_exporter": "python",
   "pygments_lexer": "ipython3",
   "version": "3.9.7"
  }
 },
 "nbformat": 4,
 "nbformat_minor": 5
}
