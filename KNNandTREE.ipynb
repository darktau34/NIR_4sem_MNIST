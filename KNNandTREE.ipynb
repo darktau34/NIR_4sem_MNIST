{
 "cells": [
  {
   "cell_type": "code",
   "execution_count": 1,
   "id": "8791b0d1",
   "metadata": {},
   "outputs": [],
   "source": [
    "import numpy as np\n",
    "import matplotlib.pyplot as plt\n",
    "from sklearn.tree import DecisionTreeClassifier\n",
    "from sklearn.neighbors import KNeighborsClassifier\n",
    "%matplotlib inline"
   ]
  },
  {
   "cell_type": "code",
   "execution_count": 2,
   "id": "25443c7a",
   "metadata": {},
   "outputs": [],
   "source": [
    "training_data_file = open(\"mnist/train_data.csv\", 'r')\n",
    "training_data_arr = training_data_file.readlines()\n",
    "training_data_file.close()"
   ]
  },
  {
   "cell_type": "code",
   "execution_count": 3,
   "id": "9054002e",
   "metadata": {},
   "outputs": [],
   "source": [
    "train_data = []\n",
    "train_labels = []\n",
    "labels = 10\n",
    "for element in training_data_arr:\n",
    "        all_val = element.split(',')\n",
    "        input_arr = (np.asfarray(all_val[1:]) / 255.0 * 0.99) + 0.01\n",
    "        target_arr = np.zeros(labels) + 0.01\n",
    "        target_arr[int(all_val[0])] = 0.99\n",
    "        train_data.append(input_arr)\n",
    "        train_labels.append(np.argmax(target_arr))"
   ]
  },
  {
   "cell_type": "code",
   "execution_count": 4,
   "id": "a73a94e7",
   "metadata": {},
   "outputs": [
    {
     "name": "stdout",
     "output_type": "stream",
     "text": [
      "1\n",
      "60000 60000\n"
     ]
    },
    {
     "data": {
      "image/png": "[encoded data removed]",
      "text/plain": [
       "<Figure size 432x288 with 1 Axes>"
      ]
     },
     "metadata": {
      "needs_background": "light"
     },
     "output_type": "display_data"
    }
   ],
   "source": [
    "plt.imshow(train_data[200].reshape(28,28), cmap='Greys', interpolation='None')\n",
    "print(train_labels[200])\n",
    "print(len(train_data), len(train_labels))"
   ]
  },
  {
   "cell_type": "code",
   "execution_count": 5,
   "id": "5f506543",
   "metadata": {},
   "outputs": [],
   "source": [
    "test_data_file = open(\"mnist/test_data.csv\", 'r')\n",
    "test_data_arr = test_data_file.readlines()\n",
    "test_data_file.close()"
   ]
  },
  {
   "cell_type": "code",
   "execution_count": 6,
   "id": "df854771",
   "metadata": {},
   "outputs": [],
   "source": [
    "test_data = []\n",
    "test_labels = []\n",
    "labels = 10\n",
    "for element in test_data_arr:\n",
    "        all_val = element.split(',')\n",
    "        input_arr = (np.asfarray(all_val[1:]) / 255.0 * 0.99) + 0.01\n",
    "        target_arr = np.zeros(labels) + 0.01\n",
    "        target_arr[int(all_val[0])] = 0.99\n",
    "        test_data.append(input_arr)\n",
    "        test_labels.append(np.argmax(target_arr))"
   ]
  },
  {
   "cell_type": "code",
   "execution_count": 7,
   "id": "a2614842",
   "metadata": {},
   "outputs": [
    {
     "name": "stdout",
     "output_type": "stream",
     "text": [
      "3\n",
      "10000 10000\n"
     ]
    },
    {
     "data": {
      "image/png": "[encoded data removed]",
      "text/plain": [
       "<Figure size 432x288 with 1 Axes>"
      ]
     },
     "metadata": {
      "needs_background": "light"
     },
     "output_type": "display_data"
    }
   ],
   "source": [
    "plt.imshow(test_data[200].reshape(28,28), cmap='Greys', interpolation='None')\n",
    "print(test_labels[200])\n",
    "print(len(test_data), len(test_labels))"
   ]
  },
  {
   "cell_type": "code",
   "execution_count": 8,
   "id": "fb85f95b",
   "metadata": {},
   "outputs": [],
   "source": [
    "model_tree = DecisionTreeClassifier(max_depth=20, max_features=64)\n",
    "model_knn = KNeighborsClassifier(n_neighbors=10)"
   ]
  },
  {
   "cell_type": "code",
   "execution_count": 9,
   "id": "40b48b42",
   "metadata": {},
   "outputs": [
    {
     "data": {
      "text/plain": [
       "KNeighborsClassifier(n_neighbors=10)"
      ]
     },
     "execution_count": 9,
     "metadata": {},
     "output_type": "execute_result"
    }
   ],
   "source": [
    "model_tree.fit(train_data, train_labels)\n",
    "model_knn.fit(train_data, train_labels)"
   ]
  },
  {
   "cell_type": "code",
   "execution_count": 10,
   "id": "15940902",
   "metadata": {},
   "outputs": [],
   "source": [
    "tree_pred = model_tree.predict(test_data)\n",
    "knn_pred = model_knn.predict(test_data)"
   ]
  },
  {
   "cell_type": "code",
   "execution_count": 11,
   "id": "5611798a",
   "metadata": {},
   "outputs": [],
   "source": [
    "score_tree = []\n",
    "for i in range(len(tree_pred)):\n",
    "    if (tree_pred[i] == test_labels[i]):\n",
    "        score_tree.append(1)\n",
    "    else:\n",
    "        score_tree.append(0)"
   ]
  },
  {
   "cell_type": "code",
   "execution_count": 12,
   "id": "51b0acf0",
   "metadata": {},
   "outputs": [
    {
     "name": "stdout",
     "output_type": "stream",
     "text": [
      "Эффективность = 0.8616\n"
     ]
    }
   ],
   "source": [
    "score_array = np.asarray(score_tree)\n",
    "eff = score_array.sum() / score_array.size\n",
    "print(\"Эффективность =\", eff)"
   ]
  },
  {
   "cell_type": "code",
   "execution_count": 13,
   "id": "6ed3acff",
   "metadata": {},
   "outputs": [],
   "source": [
    "score_knn = []\n",
    "for i in range(len(knn_pred)):\n",
    "    if (knn_pred[i] == test_labels[i]):\n",
    "        score_knn.append(1)\n",
    "    else:\n",
    "        score_knn.append(0)"
   ]
  },
  {
   "cell_type": "code",
   "execution_count": 14,
   "id": "6dbc1c75",
   "metadata": {},
   "outputs": [
    {
     "name": "stdout",
     "output_type": "stream",
     "text": [
      "Эффективность = 0.9665\n"
     ]
    }
   ],
   "source": [
    "score_array = np.asarray(score_knn)\n",
    "eff = score_array.sum() / score_array.size\n",
    "print(\"Эффективность =\", eff)"
   ]
  },
  {
   "cell_type": "code",
   "execution_count": 19,
   "id": "45110b40",
   "metadata": {},
   "outputs": [],
   "source": [
    "score_tree1 = []\n",
    "for i in tree_pred:\n",
    "    for j in test_labels:\n",
    "    if (i == test_labels[]):\n",
    "        score_tree1.append(1)\n",
    "    else:\n",
    "        score_tree1.append(0)"
   ]
  },
  {
   "cell_type": "code",
   "execution_count": 20,
   "id": "05051b23",
   "metadata": {},
   "outputs": [
    {
     "name": "stdout",
     "output_type": "stream",
     "text": [
      "Эффективность = 0.1002\n"
     ]
    }
   ],
   "source": [
    "score_array = np.asarray(score_tree1)\n",
    "eff = score_array.sum() / score_array.size\n",
    "print(\"Эффективность =\", eff)"
   ]
  },
  {
   "cell_type": "code",
   "execution_count": null,
   "id": "08db5ab2",
   "metadata": {},
   "outputs": [],
   "source": []
  }
 ],
 "metadata": {
  "kernelspec": {
   "display_name": "Python 3 (ipykernel)",
   "language": "python",
   "name": "python3"
  },
  "language_info": {
   "codemirror_mode": {
    "name": "ipython",
    "version": 3
   },
   "file_extension": ".py",
   "mimetype": "text/x-python",
   "name": "python",
   "nbconvert_exporter": "python",
   "pygments_lexer": "ipython3",
   "version": "3.9.7"
  }
 },
 "nbformat": 4,
 "nbformat_minor": 5
}
